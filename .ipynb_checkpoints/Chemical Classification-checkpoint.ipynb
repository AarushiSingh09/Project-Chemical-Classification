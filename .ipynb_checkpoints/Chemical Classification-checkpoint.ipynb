{
 "cells": [
  {
   "cell_type": "code",
   "execution_count": null,
   "metadata": {},
   "outputs": [],
   "source": [
    "import numpy as np\n",
    "import matplotlib.pyplot as plt\n",
    "import pandas as pd\n",
    "%matplotlib inline"
   ]
  },
  {
   "cell_type": "code",
   "execution_count": null,
   "metadata": {},
   "outputs": [],
   "source": [
    "plt.style.use('seaborn')\n",
    "X=pd.read_csv('Logistic_X_Train.csv')\n",
    "Y=pd.read_csv('Logistic_Y_Train.csv')\n",
    "X_train=X.values\n",
    "Y_train=Y.values\n",
    "\n",
    "print(type(X_test))\n",
    "print(X_train.shape)\n",
    "print(Y_train.shape)"
   ]
  },
  {
   "cell_type": "code",
   "execution_count": null,
   "metadata": {},
   "outputs": [],
   "source": [
    "X2=pd.read_csv('Logistic_X_Test.csv')\n",
    "X_test=X2.values\n",
    "\n",
    "print(X_test.shape)"
   ]
  },
  {
   "cell_type": "code",
   "execution_count": null,
   "metadata": {},
   "outputs": [],
   "source": [
    "def hypothesis(x,w,b):\n",
    "    '''accepts input vector x, input weight vector w and bias b'''\n",
    "    \n",
    "    h = np.dot(x,w) + b\n",
    "    return sigmoid(h)\n",
    "\n",
    "def sigmoid(z):\n",
    "    return 1.0/(1.0 + np.exp(-1.0*z))\n",
    "\n",
    "def error(y_true,x,w,b):\n",
    "    \n",
    "    m = x.shape[0]\n",
    "    \n",
    "    err = 0.0\n",
    "    \n",
    "    for i in range(m):\n",
    "        hx = hypothesis(x[i],w,b) \n",
    "        err += y_true[i]*np.log2(hx) + (1-y_true[i])*np.log2(1-hx)\n",
    "        \n",
    "    \n",
    "    return -err/m\n",
    "\n",
    "\n",
    "def get_grads(y_true,x,w,b):\n",
    "    \n",
    "    grad_w = np.zeros(w.shape)\n",
    "    grad_b = 0.0\n",
    "    \n",
    "    m = x.shape[0]\n",
    "    \n",
    "    for i in range(m):\n",
    "        hx = hypothesis(x[i],w,b)\n",
    "        \n",
    "        grad_w += (y_true[i] - hx)*x[i]\n",
    "        grad_b +=  (y_true[i]-hx)\n",
    "        \n",
    "    \n",
    "    grad_w /= m\n",
    "    grad_b /= m\n",
    "    \n",
    "    return [grad_w,grad_b]\n",
    "\n",
    "\n",
    "# One Iteration of Gradient Descent\n",
    "def grad_descent(x,y_true,w,b,learning_rate=0.1):\n",
    "    \n",
    "    err = error(y_true,x,w,b)\n",
    "    [grad_w,grad_b] = get_grads(y_true,x,w,b)\n",
    "    \n",
    "    w = w + learning_rate*grad_w\n",
    "    b = b + learning_rate*grad_b\n",
    "    \n",
    "    return err,w,b\n",
    "    \n",
    "def predict(x,w,b):\n",
    "    \n",
    "    confidence = hypothesis(x,w,b)\n",
    "    if confidence<0.5:\n",
    "        return 0\n",
    "    else:\n",
    "        return 1\n",
    "    \n",
    "def get_acc(x_tst,y_tst,w,b):\n",
    "    \n",
    "    y_pred = []\n",
    "    \n",
    "    for i in range(y_tst.shape[0]):\n",
    "        p = predict(x_tst[i],w,b)\n",
    "        y_pred.append(p)\n",
    "        \n",
    "    y_pred = np.array(y_pred)\n",
    "    \n",
    "    return  float((y_pred==y_tst).sum())/y_tst.shape[0]"
   ]
  },
  {
   "cell_type": "code",
   "execution_count": null,
   "metadata": {},
   "outputs": [],
   "source": [
    "loss = []\n",
    "acc = []\n",
    "\n",
    "W = 2*np.random.random((X_train.shape[1],))\n",
    "b = 5*np.random.random()"
   ]
  },
  {
   "cell_type": "code",
   "execution_count": null,
   "metadata": {},
   "outputs": [],
   "source": [
    "for i in range(1000):\n",
    "    l,W,b = grad_descent(X_train,Y_train,W,b,learning_rate=0.1)\n",
    "    #acc.append(get_acc(X_test,Y_test,W,b))\n",
    "    loss.append(l)"
   ]
  },
  {
   "cell_type": "code",
   "execution_count": null,
   "metadata": {},
   "outputs": [],
   "source": [
    "plt.plot(loss)\n",
    "plt.ylabel(\"Negative of Log Likelihood\")\n",
    "plt.xlabel(\"Time\")\n",
    "plt.show()"
   ]
  },
  {
   "cell_type": "code",
   "execution_count": null,
   "metadata": {},
   "outputs": [],
   "source": []
  }
 ],
 "metadata": {
  "kernelspec": {
   "display_name": "Python 3",
   "language": "python",
   "name": "python3"
  },
  "language_info": {
   "codemirror_mode": {
    "name": "ipython",
    "version": 3
   },
   "file_extension": ".py",
   "mimetype": "text/x-python",
   "name": "python",
   "nbconvert_exporter": "python",
   "pygments_lexer": "ipython3",
   "version": "3.7.4"
  }
 },
 "nbformat": 4,
 "nbformat_minor": 2
}
